import ipywidgets as widgets
from IPython.display import display, HTML

# Function to analyze flood risk based on inputs
def analyze_flood_risk(rainfall, water_levels, roads, clean_water, isolation):
    message = ""
    alert_type = "low-risk"

    if rainfall and water_levels:
        message = "RED ALERT: Immediate evacuation is recommended! Seek higher ground.\n"
        alert_type = "high-risk"
    elif rainfall or water_levels:
        message = "ORANGE ALERT: Be prepared for evacuation and stay informed on weather updates.\n"
        alert_type = "moderate-risk"
    else:
        message = "GREEN ALERT: No immediate danger detected, stay informed.\n"
        alert_type = "low-risk"

    if not clean_water:
        message += " Use purification tablets or boiled water.\n"
    if roads:
        message += " Avoid flooded roads and seek alternative routes.\n"
    if isolation:
        message += " Contact emergency services for assistance at '112' or '115'.\n"

    return f"<b>Alert Type:</b> {alert_type}<br><b>Message:</b> {message}"

# interactive widgets
rainfall_checkbox = widgets.Checkbox(value=False, description="Heavy Rainfall (>100mm)")
water_levels_checkbox = widgets.Checkbox(value=False, description="Rising Water Levels")
roads_checkbox = widgets.Checkbox(value=False, description="Impassable Roads")
clean_water_checkbox = widgets.Checkbox(value=True, description="Clean Water Available")
isolation_checkbox = widgets.Checkbox(value=False, description="Community Isolated")

submit_button = widgets.Button(description="Get Response Advice", button_style="info")

output = widgets.Output()

def on_button_click(b):
    with output:
        output.clear_output()
        result = analyze_flood_risk(
            rainfall_checkbox.value, 
            water_levels_checkbox.value, 
            roads_checkbox.value, 
            clean_water_checkbox.value, 
            isolation_checkbox.value
        )
        display(HTML(f"<p style='font-size:18px;color:#003366'>{result}</p>"))

submit_button.on_click(on_button_click)

# Display widgets
display(rainfall_checkbox, water_levels_checkbox, roads_checkbox, clean_water_checkbox, isolation_checkbox, submit_button, output)
