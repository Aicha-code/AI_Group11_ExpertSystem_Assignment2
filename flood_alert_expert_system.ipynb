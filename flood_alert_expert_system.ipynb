import ipywidgets as widgets
from IPython.display import display, HTML

def assess_flood_risk(rainfall, water_level):
    """Determine flood risk based on user-provided data (rainfall and water level)."""
    
    if rainfall > 100:
        return 'High Flood Risk'
    elif water_level > 3:
        return 'Critical Flood Risk'
    elif rainfall > 50 or water_level > 2:
        return 'Medium Flood Risk'
    else:
        return 'Low Flood Risk'

def check_flood(city_name, rainfall, water_level):
    """Check flood risk for a given city."""
    try:
        rainfall = float(rainfall)
        water_level = float(water_level)
    except ValueError:
        return "Error: Please provide valid numerical values."
    
    flood_risk = assess_flood_risk(rainfall, water_level)
    return f"<strong>City: {city_name}, Flood Risk: {flood_risk}</strong>"

# Interactive Widgets
city_input = widgets.Text(description="City:")
rainfall_input = widgets.FloatText(description="Rainfall (mm):")
water_level_input = widgets.FloatText(description="Water Level (m):")
submit_button = widgets.Button(description="Check Flood Risk")
output_area = widgets.Output()

def on_submit(b):
    with output_area:
        output_area.clear_output()
        result = check_flood(city_input.value, rainfall_input.value, water_level_input.value)
        display(HTML(result))

submit_button.on_click(on_submit)

# Display the Form
display(city_input, rainfall_input, water_level_input, submit_button, output_area)
